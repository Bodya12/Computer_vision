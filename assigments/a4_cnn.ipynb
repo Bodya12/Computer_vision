{
 "cells": [
  {
   "cell_type": "code",
   "execution_count": 32,
   "metadata": {
    "collapsed": false
   },
   "outputs": [],
   "source": [
    "import numpy as np\n",
    "from PIL import Image\n",
    "import matplotlib.pylab as plt"
   ]
  },
  {
   "cell_type": "code",
   "execution_count": 230,
   "metadata": {
    "collapsed": true
   },
   "outputs": [],
   "source": [
    "import torch\n",
    "import torchvision\n",
    "import torch.nn as nn\n",
    "import torch.utils.data as data\n",
    "import torchvision.transforms as transforms\n",
    "import torchvision.datasets as dsets\n",
    "import torchvision.utils as utils\n",
    "from torch.autograd import Variable"
   ]
  },
  {
   "cell_type": "code",
   "execution_count": 4,
   "metadata": {
    "collapsed": true
   },
   "outputs": [],
   "source": [
    "# http://pytorch.org/tutorials/beginner/blitz/cifar10_tutorial.html"
   ]
  },
  {
   "cell_type": "code",
   "execution_count": 5,
   "metadata": {
    "collapsed": true
   },
   "outputs": [],
   "source": [
    "%matplotlib inline"
   ]
  },
  {
   "cell_type": "code",
   "execution_count": 216,
   "metadata": {
    "collapsed": true
   },
   "outputs": [],
   "source": [
    "path_data_train = '/home/andrii/workspace/data/dtd/train'\n",
    "path_data_test = '/home/andrii/workspace/data/dtd/test'\n",
    "\n",
    "args_batch_size = 50\n",
    "args_dunkeys = 4\n",
    "args_scale = 128        # 224, 128, 64 # TODO: choose the better name"
   ]
  },
  {
   "cell_type": "code",
   "execution_count": 217,
   "metadata": {
    "collapsed": true
   },
   "outputs": [],
   "source": [
    "# [assignment] implement this function\n",
    "# hint: look at realization of 'normalize' transform in \n",
    "# https://github.com/pytorch/vision/blob/master/torchvision/transforms.py\n",
    "def unnormalize(tensor, mean, std):    \n",
    "    for t, m, s in zip(tensor, mean, std):\n",
    "        t.mul_(s).add_(m)\n",
    "    return tensor    "
   ]
  },
  {
   "cell_type": "code",
   "execution_count": 218,
   "metadata": {
    "collapsed": true
   },
   "outputs": [],
   "source": [
    "# ~+~ may be add other transforms here (rotation?)\n",
    "\n",
    "# general transform\n",
    "\n",
    "imagenet_mean = [0.485, 0.456, 0.406]\n",
    "imagenet_std = [0.229, 0.224, 0.225]\n",
    "\n",
    "normalize = transforms.Normalize(mean=imagenet_mean,\n",
    "                                 std=imagenet_std)\n",
    "\n",
    "train_transforms = transforms.Compose([\n",
    "                                      transforms.Scale(256),\n",
    "                                      transforms.RandomCrop(224),\n",
    "                                      transforms.RandomHorizontalFlip(),\n",
    "                                      transforms.Scale(args_scale),\n",
    "                                      transforms.ToTensor(),\n",
    "                                      normalize\n",
    "                                      ])\n",
    "\n",
    "test_transforms = transforms.Compose([\n",
    "                                    transforms.Scale(256),\n",
    "                                    transforms.CenterCrop(224),\n",
    "                                    transforms.Scale(args_scale),\n",
    "                                    transforms.ToTensor(),\n",
    "                                    normalize\n",
    "                                    ])"
   ]
  },
  {
   "cell_type": "code",
   "execution_count": 219,
   "metadata": {
    "collapsed": false
   },
   "outputs": [],
   "source": [
    "train_dataset = dsets.ImageFolder(root=path_data_train,\n",
    "                                  transform=train_transforms,\n",
    "                                  target_transform=None)\n",
    "\n",
    "val_dataset = dsets.ImageFolder(root=path_data_test,\n",
    "                                transform=test_transforms,\n",
    "                                target_transform=None)"
   ]
  },
  {
   "cell_type": "code",
   "execution_count": 220,
   "metadata": {
    "collapsed": false
   },
   "outputs": [
    {
     "name": "stdout",
     "output_type": "stream",
     "text": [
      "torch.Size([3, 128, 128])\n",
      "42\n",
      "veined\n"
     ]
    }
   ],
   "source": [
    "image, label = val_dataset[20]\n",
    "print (image.size())\n",
    "print (label)\n",
    "print (train_dataset.classes[label])"
   ]
  },
  {
   "cell_type": "code",
   "execution_count": 221,
   "metadata": {
    "collapsed": false
   },
   "outputs": [
    {
     "data": {
      "text/plain": [
       "<matplotlib.image.AxesImage at 0x7fc313bd3128>"
      ]
     },
     "execution_count": 221,
     "metadata": {},
     "output_type": "execute_result"
    },
    {
     "data": {
      "image/png": "[encoded data removed]",
      "text/plain": [
       "<matplotlib.figure.Figure at 0x7fc2c0fa8a90>"
      ]
     },
     "metadata": {},
     "output_type": "display_data"
    }
   ],
   "source": [
    "image = unnormalize(image, imagenet_mean, imagenet_std)\n",
    "img_back = image.mul(255).byte()\n",
    "im_res = np.transpose(img_back.numpy(), (1, 2, 0))\n",
    "\n",
    "plt.imshow(im_res)"
   ]
  },
  {
   "cell_type": "code",
   "execution_count": null,
   "metadata": {
    "collapsed": true
   },
   "outputs": [],
   "source": [
    "# TODO : what is 'pin_memory=True' as a parameter (seems to work only on GPU)\n",
    "train_loader = torch.utils.data.DataLoader(dataset=train_dataset,\n",
    "                                           batch_size=args_batch_size,\n",
    "                                           shuffle=True,\n",
    "                                           num_workers=args_dunkeys)\n",
    "\n",
    "val_loader = torch.utils.data.DataLoader(dataset=val_dataset,\n",
    "                                         batch_size=args_batch_size,\n",
    "                                         shuffle=False,\n",
    "                                         num_workers=args_dunkeys)"
   ]
  },
  {
   "cell_type": "code",
   "execution_count": 222,
   "metadata": {
    "collapsed": true
   },
   "outputs": [],
   "source": [
    "# When iteration starts, queue and thread start to load dataset from files.\n",
    "data_iter = iter(train_loader)\n",
    "\n",
    "# Mini-batch images and labels.\n",
    "images, labels = data_iter.next()\n",
    "\n",
    "print (images.size())\n",
    "print (labels.size())\n",
    "print (images.view(-1, args_scale*args_scale*3).size())"
   ]
  },
  {
   "cell_type": "code",
   "execution_count": null,
   "metadata": {
    "collapsed": true
   },
   "outputs": [],
   "source": [
    "def show(img):\n",
    "    npimg = img.numpy()\n",
    "    plt.imshow(np.transpose(npimg, (1,2,0)), interpolation='nearest')"
   ]
  },
  {
   "cell_type": "code",
   "execution_count": null,
   "metadata": {
    "collapsed": true
   },
   "outputs": [],
   "source": []
  },
  {
   "cell_type": "code",
   "execution_count": 224,
   "metadata": {
    "collapsed": true
   },
   "outputs": [],
   "source": [
    "input_size = args_scale*args_scale*3\n",
    "num_classes = len(train_dataset.classes)\n",
    "num_hidden = 100\n",
    "learning_rate = 0.01\n",
    "num_epochs = 50"
   ]
  },
  {
   "cell_type": "code",
   "execution_count": 225,
   "metadata": {
    "collapsed": true
   },
   "outputs": [],
   "source": [
    "# log-regression model [~ 6 % accuracy, 32x32]\n",
    "class LogisticRegression(nn.Module):\n",
    "    def __init__(self, n_input, n_classes):\n",
    "        super(LogisticRegression, self).__init__()\n",
    "        self.linear = nn.Linear(n_input, n_classes)\n",
    "\n",
    "    def forward(self, x):\n",
    "        out = self.linear(x)\n",
    "        return out"
   ]
  },
  {
   "cell_type": "code",
   "execution_count": 226,
   "metadata": {
    "collapsed": true
   },
   "outputs": [],
   "source": [
    "# two-layer network [~ 7 % accuracy, 32x32]\n",
    "class FullyConnected(nn.Module):\n",
    "    def __init__(self, n_input, n_hidden, n_classes):\n",
    "        super(FullyConnected, self).__init__()\n",
    "        self.linear1 = nn.Linear(n_input, n_hidden)\n",
    "        self.linear2 = nn.Linear(n_hidden, n_classes)\n",
    "\n",
    "    def forward(self, x):\n",
    "        out = self.linear1(x)\n",
    "        out = self.linear2(out)\n",
    "        return out"
   ]
  },
  {
   "cell_type": "code",
   "execution_count": 227,
   "metadata": {
    "collapsed": true
   },
   "outputs": [],
   "source": [
    "# conv [ ~16   % accuracy, 28x28, original conv example from tutorial]\n",
    "# conv [ ~21.2 % accuracy, 32x32]\n",
    "class CNN(nn.Module):\n",
    "    def __init__(self, n_classes):\n",
    "        super(CNN, self).__init__()\n",
    "        self.layer1 = nn.Sequential(\n",
    "            nn.Conv2d(3, 16, kernel_size=3, padding=1),\n",
    "            nn.BatchNorm2d(16),\n",
    "            nn.ReLU(),\n",
    "            nn.MaxPool2d(2))\n",
    "        self.layer2 = nn.Sequential(\n",
    "            nn.Conv2d(16, 32, kernel_size=3, padding=1),\n",
    "            nn.BatchNorm2d(32),\n",
    "            nn.ReLU(),\n",
    "            nn.MaxPool2d(2))\n",
    "        self.layer3 = nn.Sequential(\n",
    "            nn.Conv2d(32, 64, kernel_size=3, padding=1),\n",
    "            nn.BatchNorm2d(64),\n",
    "            nn.ReLU(),\n",
    "            nn.MaxPool2d(2))\n",
    "        self.fc = nn.Linear(4 * 4 * 64, n_classes)\n",
    "\n",
    "    def forward(self, x):\n",
    "        out = self.layer1(x)\n",
    "        out = self.layer2(out)\n",
    "        out = self.layer3(out)\n",
    "        out = out.view(out.size(0), -1)\n",
    "        out = self.fc(out)\n",
    "        return out"
   ]
  },
  {
   "cell_type": "code",
   "execution_count": 228,
   "metadata": {
    "collapsed": true
   },
   "outputs": [],
   "source": [
    "# [assignment] calculate the size of the input for FC layer, when we change the size of the input image\n",
    "# [for assignment] tools for the analysing errors\n",
    "\n",
    "# model = FullyConnected(input_size, num_hidden, num_classes)\n",
    "model = CNN(num_classes)\n",
    "\n",
    "criterion = nn.CrossEntropyLoss()\n",
    "#optimizer = torch.optim.SGD(model.parameters(), lr=learning_rate)\n",
    "optimizer = torch.optim.Adam(model.parameters(), lr=learning_rate)"
   ]
  },
  {
   "cell_type": "code",
   "execution_count": 1,
   "metadata": {
    "collapsed": true
   },
   "outputs": [],
   "source": [
    "def make_test(data_loader, model_current, n_input, pref=''):\n",
    "\n",
    "    model.eval()\n",
    "\n",
    "    # test\n",
    "    correct = 0\n",
    "    total = 0\n",
    "    for images_, labels_ in data_loader:\n",
    "        #images_ = Variable(images_.view(-1, n_input))  # ONLY for FC net or log regression\n",
    "        images_ = Variable(images_)\n",
    "        outputs_ = model_current.forward(images_)\n",
    "        _, predicted = torch.max(outputs_.data, 1)\n",
    "        total += labels_.size(0)\n",
    "        correct += (predicted == labels_).sum()\n",
    "    print('accuracy[' + pref + '] : %f %%' % (100 * correct / total))"
   ]
  },
  {
   "cell_type": "code",
   "execution_count": 91,
   "metadata": {
    "collapsed": false
   },
   "outputs": [
    {
     "name": "stdout",
     "output_type": "stream",
     "text": [
      "accuracy[] : 1.595745 %\n",
      "--- epoch: [1, 50]\n",
      "accuracy[train] : 2.606383 %\n",
      "accuracy[val ] : 2.606383 %\n",
      "--- epoch: [2, 50]\n",
      "accuracy[train] : 3.164894 %\n",
      "accuracy[val ] : 3.510638 %\n",
      "--- epoch: [3, 50]\n",
      "accuracy[train] : 5.505319 %\n",
      "accuracy[val ] : 4.361702 %\n",
      "--- epoch: [4, 50]\n",
      "accuracy[train] : 6.569149 %\n",
      "accuracy[val ] : 7.021277 %\n",
      "--- epoch: [5, 50]\n",
      "accuracy[train] : 8.005319 %\n",
      "accuracy[val ] : 7.606383 %\n",
      "--- epoch: [6, 50]\n",
      "accuracy[train] : 10.265957 %\n",
      "accuracy[val ] : 9.308511 %\n",
      "--- epoch: [7, 50]\n",
      "accuracy[train] : 12.260638 %\n",
      "accuracy[val ] : 10.478723 %\n",
      "--- epoch: [8, 50]\n",
      "accuracy[train] : 12.500000 %\n",
      "accuracy[val ] : 11.117021 %\n",
      "--- epoch: [9, 50]\n",
      "accuracy[train] : 13.430851 %\n",
      "accuracy[val ] : 11.489362 %\n",
      "--- epoch: [10, 50]\n",
      "accuracy[train] : 13.750000 %\n",
      "accuracy[val ] : 11.489362 %\n",
      "--- epoch: [11, 50]\n",
      "accuracy[train] : 14.281915 %\n",
      "accuracy[val ] : 11.755319 %\n",
      "--- epoch: [12, 50]\n",
      "accuracy[train] : 15.984043 %\n",
      "accuracy[val ] : 13.351064 %\n",
      "--- epoch: [13, 50]\n",
      "accuracy[train] : 15.691489 %\n",
      "accuracy[val ] : 12.872340 %\n",
      "--- epoch: [14, 50]\n",
      "accuracy[train] : 15.611702 %\n",
      "accuracy[val ] : 13.138298 %\n",
      "--- epoch: [15, 50]\n",
      "accuracy[train] : 15.877660 %\n",
      "accuracy[val ] : 12.606383 %\n",
      "--- epoch: [16, 50]\n",
      "accuracy[train] : 16.755319 %\n",
      "accuracy[val ] : 12.234043 %\n",
      "--- epoch: [17, 50]\n",
      "accuracy[train] : 18.670213 %\n",
      "accuracy[val ] : 14.095745 %\n",
      "--- epoch: [18, 50]\n",
      "accuracy[train] : 19.734043 %\n",
      "accuracy[val ] : 14.946809 %\n",
      "--- epoch: [19, 50]\n",
      "accuracy[train] : 20.026596 %\n",
      "accuracy[val ] : 14.734043 %\n",
      "--- epoch: [20, 50]\n",
      "accuracy[train] : 19.441489 %\n",
      "accuracy[val ] : 14.202128 %\n",
      "--- epoch: [21, 50]\n",
      "accuracy[train] : 19.095745 %\n",
      "accuracy[val ] : 14.627660 %\n",
      "--- epoch: [22, 50]\n",
      "accuracy[train] : 20.265957 %\n",
      "accuracy[val ] : 16.010638 %\n",
      "--- epoch: [23, 50]\n",
      "accuracy[train] : 21.037234 %\n",
      "accuracy[val ] : 16.329787 %\n",
      "--- epoch: [24, 50]\n",
      "accuracy[train] : 22.393617 %\n",
      "accuracy[val ] : 15.797872 %\n",
      "--- epoch: [25, 50]\n",
      "accuracy[train] : 21.755319 %\n",
      "accuracy[val ] : 16.063830 %\n",
      "--- epoch: [26, 50]\n",
      "accuracy[train] : 22.686170 %\n",
      "accuracy[val ] : 16.382979 %\n",
      "--- epoch: [27, 50]\n",
      "accuracy[train] : 22.127660 %\n",
      "accuracy[val ] : 15.904255 %\n",
      "--- epoch: [28, 50]\n",
      "accuracy[train] : 22.526596 %\n",
      "accuracy[val ] : 18.510638 %\n",
      "--- epoch: [29, 50]\n",
      "accuracy[train] : 24.867021 %\n",
      "accuracy[val ] : 17.180851 %\n",
      "--- epoch: [30, 50]\n",
      "accuracy[train] : 24.787234 %\n",
      "accuracy[val ] : 17.712766 %\n",
      "--- epoch: [31, 50]\n",
      "accuracy[train] : 26.861702 %\n",
      "accuracy[val ] : 19.042553 %\n",
      "--- epoch: [32, 50]\n",
      "accuracy[train] : 23.776596 %\n",
      "accuracy[val ] : 16.914894 %\n",
      "--- epoch: [33, 50]\n",
      "accuracy[train] : 25.851064 %\n",
      "accuracy[val ] : 17.872340 %\n",
      "--- epoch: [34, 50]\n",
      "accuracy[train] : 26.728723 %\n",
      "accuracy[val ] : 18.297872 %\n",
      "--- epoch: [35, 50]\n",
      "accuracy[train] : 27.659574 %\n",
      "accuracy[val ] : 18.510638 %\n",
      "--- epoch: [36, 50]\n",
      "accuracy[train] : 28.617021 %\n",
      "accuracy[val ] : 19.414894 %\n",
      "--- epoch: [37, 50]\n",
      "accuracy[train] : 28.457447 %\n",
      "accuracy[val ] : 20.106383 %\n",
      "--- epoch: [38, 50]\n",
      "accuracy[train] : 30.744681 %\n",
      "accuracy[val ] : 21.223404 %\n",
      "--- epoch: [39, 50]\n",
      "accuracy[train] : 29.893617 %\n",
      "accuracy[val ] : 19.521277 %\n",
      "--- epoch: [40, 50]\n",
      "accuracy[train] : 29.707447 %\n",
      "accuracy[val ] : 20.372340 %\n",
      "--- epoch: [41, 50]\n",
      "accuracy[train] : 29.361702 %\n",
      "accuracy[val ] : 20.212766 %\n",
      "--- epoch: [42, 50]\n",
      "accuracy[train] : 29.228723 %\n",
      "accuracy[val ] : 20.638298 %\n",
      "--- epoch: [43, 50]\n",
      "accuracy[train] : 31.648936 %\n",
      "accuracy[val ] : 19.521277 %\n",
      "--- epoch: [44, 50]\n",
      "accuracy[train] : 31.861702 %\n",
      "accuracy[val ] : 20.744681 %\n",
      "--- epoch: [45, 50]\n",
      "accuracy[train] : 32.792553 %\n",
      "accuracy[val ] : 21.702128 %\n",
      "--- epoch: [46, 50]\n",
      "accuracy[train] : 30.452128 %\n",
      "accuracy[val ] : 20.478723 %\n",
      "--- epoch: [47, 50]\n",
      "accuracy[train] : 33.750000 %\n",
      "accuracy[val ] : 21.170213 %\n",
      "--- epoch: [48, 50]\n",
      "accuracy[train] : 31.648936 %\n",
      "accuracy[val ] : 20.691489 %\n",
      "--- epoch: [49, 50]\n",
      "accuracy[train] : 35.265957 %\n",
      "accuracy[val ] : 22.446809 %\n",
      "--- epoch: [50, 50]\n",
      "accuracy[train] : 32.393617 %\n",
      "accuracy[val ] : 20.957447 %\n"
     ]
    }
   ],
   "source": [
    "make_test(val_loader, model, input_size)\n",
    "\n",
    "# train\n",
    "for epoch in range(num_epochs):\n",
    "    for i, (images, labels) in enumerate(train_loader):\n",
    "        #images = Variable(images.view(-1, input_size))  # ONLY for FC net or log regression\n",
    "        images = Variable(images)\n",
    "        labels = Variable(labels)\n",
    "\n",
    "        # forward + backward + optimize\n",
    "        optimizer.zero_grad()\n",
    "        outputs = model.forward(images)\n",
    "        loss = criterion(outputs, labels)\n",
    "        loss.backward()\n",
    "        optimizer.step()\n",
    "\n",
    "        # print('epoch: [%d/%d], step: [%d/%d], loss: %.4f' %\n",
    "        #       (epoch + 1, num_epochs, i+1, len(train_dataset)//args_batch_size, loss.data[0]))\n",
    "\n",
    "    print('--- epoch: [%d, %d]' % (epoch + 1, num_epochs))\n",
    "    make_test(train_loader, model, input_size, pref='train')\n",
    "    make_test(val_loader, model, input_size, pref='val ')\n",
    "\n",
    "    # switch back to the training  mode\n",
    "    model.train()"
   ]
  },
  {
   "cell_type": "code",
   "execution_count": null,
   "metadata": {
    "collapsed": true
   },
   "outputs": [],
   "source": []
  }
 ],
 "metadata": {
  "kernelspec": {
   "display_name": "Python 3",
   "language": "python",
   "name": "python3"
  },
  "language_info": {
   "codemirror_mode": {
    "name": "ipython",
    "version": 3
   },
   "file_extension": ".py",
   "mimetype": "text/x-python",
   "name": "python",
   "nbconvert_exporter": "python",
   "pygments_lexer": "ipython3",
   "version": "3.6.0"
  }
 },
 "nbformat": 4,
 "nbformat_minor": 2
}
