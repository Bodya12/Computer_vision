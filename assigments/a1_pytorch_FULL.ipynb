{
 "cells": [
  {
   "cell_type": "markdown",
   "metadata": {},
   "source": [
    "*Colormap of the notebook:*\n",
    "\n",
    "* <span style=\"color:red\">assignment problem</span>. The red color indicates the task that should be done\n",
    "* <span style=\"color:green\">debugging</span>. The green tells you what is expected outcome. Its primarily goal is to help you get the correct answer\n",
    "* <span style=\"color:blue\">comments, hints</span>.\n",
    "\n",
    "Assignment 1 (pytorch basics)\n",
    "======================\n"
   ]
  },
  {
   "cell_type": "markdown",
   "metadata": {},
   "source": [
    "<img src=\"fig/pytorch-logo-dark.png\" style=\"height:64px;\" />"
   ]
  },
  {
   "cell_type": "markdown",
   "metadata": {
    "collapsed": true
   },
   "source": [
    "#### Useful Links:\n",
    "\n",
    "* pytorch official documentation\n",
    "http://pytorch.org/docs/master/index.html\n",
    "\n",
    "* pytorch discussion\n",
    "https://discuss.pytorch.org/\n",
    "\n",
    "* pytorch tutorials\n",
    "https://github.com/yunjey/pytorch-tutorial\n",
    "\n",
    "* pytorch examples\n",
    "https://github.com/jcjohnson/pytorch-examples\n"
   ]
  },
  {
   "cell_type": "markdown",
   "metadata": {},
   "source": [
    "### Preliminaries"
   ]
  },
  {
   "cell_type": "code",
   "execution_count": null,
   "metadata": {
    "collapsed": true
   },
   "outputs": [],
   "source": [
    "# for compatability issues (python 2 & python 3)\n",
    "from __future__ import print_function\n",
    "from __future__ import division"
   ]
  },
  {
   "cell_type": "code",
   "execution_count": null,
   "metadata": {
    "collapsed": true
   },
   "outputs": [],
   "source": [
    "import numpy as np\n",
    "import torch\n",
    "from torch.autograd import Variable"
   ]
  },
  {
   "cell_type": "code",
   "execution_count": null,
   "metadata": {
    "collapsed": false
   },
   "outputs": [],
   "source": [
    "# random seed settings\n",
    "torch.manual_seed(42)\n",
    "np.random.seed(42)"
   ]
  },
  {
   "cell_type": "markdown",
   "metadata": {},
   "source": [
    "###  Tensors"
   ]
  },
  {
   "cell_type": "markdown",
   "metadata": {},
   "source": [
    "One of the main data type in pytorch is tensor.\n",
    "We will start with the concept of tensor and how it is used in pytorch\n",
    "\n",
    "<img src=\"fig/tensors.jpg\" style=\"height:512px;\" />"
   ]
  },
  {
   "cell_type": "markdown",
   "metadata": {},
   "source": [
    "#### Tensor Initialization"
   ]
  },
  {
   "cell_type": "code",
   "execution_count": null,
   "metadata": {
    "collapsed": false
   },
   "outputs": [],
   "source": [
    "# 1d tensor of size 64 of type float (default)\n",
    "# (this tensor is initialized with default values close to zero)\n",
    "v = torch.Tensor(64)\n",
    "\n",
    "print(\" * the first 4 elements of 'v' are:\")\n",
    "print(v[:4]) # print the first four elements of the tensor\n",
    "\n",
    "# initialize with array [0,1,...,63]\n",
    "v = torch.arange(0,64)\n",
    "\n",
    "print(\" * the first 4 elements of 'v' are:\")\n",
    "print(v[:4]) # print the first four elements of the tensor\n",
    "\n",
    "print(\" * the size of the 'v' is \")\n",
    "print(v.size())"
   ]
  },
  {
   "cell_type": "code",
   "execution_count": null,
   "metadata": {
    "collapsed": false
   },
   "outputs": [],
   "source": [
    "# 2d tensor of size 64 of type float\n",
    "x = torch.Tensor(8, 8).type(torch.FloatTensor)\n",
    "\n",
    "print(\" * the last 4 elements of 'x' are:\")\n",
    "print(x[:4,:4]) # print the last four elements of the tensor\n",
    "\n",
    "# initialize with array all ones\n",
    "x = torch.ones(8, 8).type(torch.FloatTensor)\n",
    "\n",
    "print(\" * the last 4 elements of 'x' are:\")\n",
    "print(x[:4, :4]) # print the last four elements of the tensor\n",
    "\n",
    "print(\" * the size of the 'x' is \")\n",
    "print(x.size())"
   ]
  },
  {
   "cell_type": "markdown",
   "metadata": {},
   "source": [
    "<span style=\"color:red\"> **[PROBLEM I]**: </span>   \n",
    "\n",
    "<span style=\"color:red\"> Initialize X </span>  \n",
    "<span style=\"color:red\"> 3d Tensor of size (4,4,4) </span>  \n",
    "<span style=\"color:red\"> of type FloatTensor with all elements equal to zero </span>\n",
    "\n",
    "<span style=\"color:blue\"> consider to use 'zeros' </span>"
   ]
  },
  {
   "cell_type": "code",
   "execution_count": null,
   "metadata": {
    "collapsed": false
   },
   "outputs": [],
   "source": [
    "# YOUR CODE HERE\n",
    "X = torch.zeros(4,4,4)"
   ]
  },
  {
   "cell_type": "markdown",
   "metadata": {},
   "source": [
    "<span style=\"color:red\"> **[PROBLEM II]**: </span> \n",
    "\n",
    "<span style=\"color:red\"> Explan of what you see while running the following </span>"
   ]
  },
  {
   "cell_type": "code",
   "execution_count": null,
   "metadata": {
    "collapsed": false
   },
   "outputs": [],
   "source": [
    "# watch out \n",
    "print(\"X + x + v : \")\n",
    "print(X + x + v)\n",
    "print(\"x + v + X : \")\n",
    "print(x + v + X)\n",
    "print(\"v + X + x : \")\n",
    "print(v + X + x)"
   ]
  },
  {
   "cell_type": "markdown",
   "metadata": {},
   "source": [
    "#### Reshaping, broadcasting"
   ]
  },
  {
   "cell_type": "markdown",
   "metadata": {},
   "source": [
    "Tensor reshaping is done with command 'view':"
   ]
  },
  {
   "cell_type": "code",
   "execution_count": null,
   "metadata": {
    "collapsed": false
   },
   "outputs": [],
   "source": [
    "a = torch.Tensor([[1,2], [3,4]])\n",
    "a_reshaped = a.view(4) # reshape into one-dimensional tensor of size 4\n",
    "\n",
    "print(a)\n",
    "print(a_reshaped)"
   ]
  },
  {
   "cell_type": "markdown",
   "metadata": {},
   "source": [
    "<span style=\"color:red\"> **[PROBLEM III]**: </span> \n",
    "\n",
    "<span style=\"color:red\"> Use command 'view' to reshape v and X into 2d tensor. </span>  \n",
    "<span style=\"color:red\"> Perform addition of these reshaped tensors v, X and x. </span>  \n",
    "<span style=\"color:red\"> Finally display the result. </span>"
   ]
  },
  {
   "cell_type": "code",
   "execution_count": null,
   "metadata": {
    "collapsed": false
   },
   "outputs": [],
   "source": [
    "# YOUR CODE HERE\n",
    "result_add = v.view(8,8) + x + X.view(8,8)\n",
    "print(result_add)"
   ]
  },
  {
   "cell_type": "markdown",
   "metadata": {},
   "source": [
    "#### Numpy bridge"
   ]
  },
  {
   "cell_type": "code",
   "execution_count": null,
   "metadata": {
    "collapsed": false
   },
   "outputs": [],
   "source": [
    "# create numpy array\n",
    "a = np.array([[1,2], [3,4]])\n",
    "# transform numpy array into torch.Tensor\n",
    "b = torch.from_numpy(a)\n",
    "# make operation on this Tensor (in this case transpose)\n",
    "b = b.transpose(1,0)\n",
    "# transform back to numpy\n",
    "c = b.numpy()                \n",
    "\n",
    "print(a, type(a))\n",
    "print(b)\n",
    "print(c, type(c))"
   ]
  },
  {
   "cell_type": "markdown",
   "metadata": {},
   "source": [
    "<span style=\"color:red\"> **[PROBLEM IV]**: </span> "
   ]
  },
  {
   "cell_type": "code",
   "execution_count": null,
   "metadata": {
    "collapsed": false
   },
   "outputs": [],
   "source": [
    "# create two random matrices with numpy\n",
    "x = np.random.randn(3, 10)\n",
    "y = np.random.randn(10, 4)"
   ]
  },
  {
   "cell_type": "markdown",
   "metadata": {
    "collapsed": true
   },
   "source": [
    "<span style=\"color:red\"> Do the following: </span>\n",
    "* <span style=\"color:red\">transform $\\mathbf{x}$ and $\\mathbf{y}$ to torch.Tensors</span>\n",
    "* <span style=\"color:red\">perform matrix mutliplication $\\mathbf{r1} = \\mathbf{x} \\cdot \\mathbf{y} $</span>  \n",
    "<span style=\"color:blue\"> look in for pytorch function http://pytorch.org/docs/master/torch.html#torch.mm </span>  \n",
    "* <span style=\"color:red\">perform matrix element-wise mutliplication $\\mathbf{r2} = \\mathbf{r1} \\cdot \\mathbf{r1} $</span>  \n",
    "<span style=\"color:blue\"> look in for pytorch function http://pytorch.org/docs/master/torch.html#torch.mul </span> \n",
    "* <span style=\"color:red\">perform scalar addition and scalar multiplication $\\mathbf{r3} = 2 * \\mathbf{r2} + 3 $</span>  \n",
    "<span style=\"color:blue\"> look in for the corresponding pytorch functions on the webpage above </span> \n",
    "* <span style=\"color:red\">transform the result back to numpy </span>"
   ]
  },
  {
   "cell_type": "code",
   "execution_count": null,
   "metadata": {
    "collapsed": false
   },
   "outputs": [],
   "source": [
    "# YOUR CODE HERE\n",
    "r1 = torch.from_numpy(x).mm(torch.from_numpy(y))\n",
    "r2 = r1 * r1\n",
    "r3 = 2 * r2 + 3\n",
    "r3.numpy()"
   ]
  },
  {
   "cell_type": "markdown",
   "metadata": {},
   "source": [
    "###  Autograd - get it simpler with Pytorch\n",
    "\n",
    "Autograd, automatic differentiation (AD), also called algorithmic differentiation or computational differentiation is a set of techniques to numerically evaluate the derivative of a function. [https://en.wikipedia.org/wiki/Automatic_differentiation]\n",
    "\n",
    "<img src=\"fig/AutomaticDifferentiationNutshell.png\" style=\"height:256px;\" />\n",
    "\n",
    "Automatic differentiation is used to automate the computation of backward passes in neural networks. The autograd package in PyTorch provides exactly this functionality. "
   ]
  },
  {
   "cell_type": "markdown",
   "metadata": {},
   "source": [
    "Lets start with simple example.\n",
    "Consider the following function:\n",
    "$$f = (x + y) \\cdot z$$\n",
    "\n",
    "For concretness let's take $x=2$, $y=-7$, $z=3$. The 'forward' calculation is shown in <span style=\"color:green\"> green </span> on the image below.\n",
    "\n",
    "Automaic differentiation provides the elegant tool to calculate derivatives of $f$ with respect to all variables, by 'backward' path.\n",
    "\n",
    "$$f = (x + y) \\cdot z = u \\cdot z $$\n",
    "\n",
    "$$ \\frac{\\partial f}{\\partial u} = z $$\n",
    "\n",
    "$$ \\frac{\\partial f}{\\partial z} = u = -5 $$\n",
    "\n",
    "$$ \\frac{\\partial f}{\\partial x} = \\frac{\\partial f}{\\partial u} \\cdot \\frac{\\partial u}{\\partial x} = z = 3$$\n",
    "\n",
    "$$ \\frac{\\partial f}{\\partial y} = \\frac{\\partial f}{\\partial u} \\cdot \\frac{\\partial u}{\\partial y} = z = 3$$\n",
    "\n",
    "<img src=\"fig/comp_graph_1.png\" style=\"height:256px;\" />"
   ]
  },
  {
   "cell_type": "code",
   "execution_count": null,
   "metadata": {
    "collapsed": false
   },
   "outputs": [],
   "source": [
    "# Create tensors.\n",
    "x = Variable(torch.Tensor([2]), requires_grad=True)\n",
    "y = Variable(torch.Tensor([-7]), requires_grad=True)\n",
    "z = Variable(torch.Tensor([3]), requires_grad=True)\n",
    "\n",
    "# Build a computational graph.\n",
    "f = (x + y) * z   \n",
    "\n",
    "# Compute gradients.\n",
    "f.backward()\n",
    "\n",
    "# Print out the gradients.\n",
    "print(x.grad)    \n",
    "print(y.grad)    \n",
    "print(z.grad) "
   ]
  },
  {
   "cell_type": "markdown",
   "metadata": {},
   "source": [
    "<span style=\"color:red\"> **[PROBLEM V]**: </span> \n",
    "\n",
    "<span style=\"color:red\"> Make the computational graph of the following function  </span>\n",
    "\n",
    "$$f = \\frac{1}{1 + exp^{-(w_0 \\cdot x_0 + w_1 \\cdot x_1 + b )}} = \\frac{1}{1 + exp^{-(\\mathbf{w} \\cdot \\mathbf{x} + b )}}$$\n",
    "\n",
    "<img src=\"fig/comp_graph_2.png\" style=\"height:320px;\" />\n",
    "\n",
    "<span style=\"color:red\"> Compute partial derivatives:  </span>\n",
    "\n",
    "<span style=\"color:red\">$$ \\frac{\\partial f}{\\partial \\mathbf{w}}  $$ </span>\n",
    "\n",
    "<span style=\"color:red\">$$ \\frac{\\partial f}{\\partial b}  $$ </span>\n",
    "\n",
    "<span style=\"color:red\">$$ \\frac{\\partial f}{\\partial \\mathbf{x}}  $$ </span>\n",
    "\n",
    "<span style=\"color:blue\">define $\\{x_0, x_1\\}$ and $\\{w_0, w_1\\}$ as vector variables $\\mathbf{x}$ and $\\mathbf{w}$ </span>  \n",
    "<span style=\"color:blue\"> look in for pytorch exponent function http://pytorch.org/docs/master/torch.html#torch.exp </span>  \n",
    "<span style=\"color:blue\">use matrix operations</span>\n",
    "\n",
    "<span style=\"color:green\">You should get the numbers the same as on the figure</span>"
   ]
  },
  {
   "cell_type": "code",
   "execution_count": null,
   "metadata": {
    "collapsed": false
   },
   "outputs": [],
   "source": [
    "#YOUR CODE HERE\n",
    "w = Variable(torch.Tensor([3, 5]), requires_grad=True)\n",
    "x = Variable(torch.Tensor([-2, 1]), requires_grad=True)\n",
    "b = Variable(torch.Tensor([2]), requires_grad=True)\n",
    "f = 1 / (torch.exp(-w.view(-1,2).mm(x.view(2,-1)) - b) + 1)\n",
    "\n",
    "# Compute gradients.\n",
    "f.backward()\n",
    "\n",
    "# Print out the gradients.\n",
    "print(w.grad)\n",
    "print(x.grad)      \n",
    "print(b.grad) "
   ]
  },
  {
   "cell_type": "code",
   "execution_count": null,
   "metadata": {
    "collapsed": false
   },
   "outputs": [],
   "source": [
    "#YOUR CODE HERE\n",
    "w = Variable(torch.Tensor([3, 5]), requires_grad=True)\n",
    "x = Variable(torch.Tensor([-2, 1]), requires_grad=True)\n",
    "b = Variable(torch.Tensor([2]), requires_grad=True)\n",
    "f = 1 / (torch.exp(-torch.dot(w,x) - b) + 1)\n",
    "\n",
    "# Compute gradients.\n",
    "f.backward()\n",
    "\n",
    "# Print out the gradients.\n",
    "print(w.grad)\n",
    "print(x.grad)      \n",
    "print(b.grad) "
   ]
  },
  {
   "cell_type": "markdown",
   "metadata": {},
   "source": [
    "<span style=\"color:red\"> **[PROBLEM VI]**: </span> "
   ]
  },
  {
   "cell_type": "markdown",
   "metadata": {
    "collapsed": true
   },
   "source": [
    "Let's move on to more complicated example.\n",
    "We will consider some random input *x* and random output *y*.  \n",
    "our *model* is \n",
    "$$y_{pred} = x \\cdot w + b$$\n",
    "and the *loss* is \n",
    "$$loss = \\sum{(y_{pred} - y)^2}$$"
   ]
  },
  {
   "cell_type": "markdown",
   "metadata": {},
   "source": [
    "<span style=\"color:red\">Fill the missing parts below</span> \n",
    "* <span style=\"color:red\">Initialize biases</span>  \n",
    "* <span style=\"color:red\">Implement $y_{pred}$ according to the formula above</span>  \n",
    "<span style=\"color:blue\">while computing be careful about tensor dimensionality size, for changing it use .expand function http://pytorch.org/docs/master/tensors.html#torch.Tensor.expand </span>\n",
    "* <span style=\"color:red\">Implement *loss* according to the formula above</span>"
   ]
  },
  {
   "cell_type": "code",
   "execution_count": null,
   "metadata": {
    "collapsed": false
   },
   "outputs": [],
   "source": [
    "# Create random input and output data\n",
    "x = Variable(torch.randn(10, 3))\n",
    "y = Variable(torch.randn(10, 4))\n",
    "\n",
    "# Randomly initialize weights\n",
    "w = Variable(torch.randn(3, 4), requires_grad=True)\n",
    "\n",
    "# Randomly initialize bias\n",
    "#b = #YOUR CODE HERE\n",
    "b = Variable(torch.randn(4), requires_grad=True)"
   ]
  },
  {
   "cell_type": "code",
   "execution_count": null,
   "metadata": {
    "collapsed": false
   },
   "outputs": [],
   "source": [
    "learning_rate = 1e-3\n",
    "for t in range(200):\n",
    "    y_pred = x.mm(w) + b.expand(10, 4) #YOUR CODE HERE\n",
    "  \n",
    "    loss = (y_pred - y).pow(2).sum() #YOUR CODE HERE\n",
    "    \n",
    "    if t % 20 == 0:\n",
    "        print(t, loss.data[0])\n",
    "  \n",
    "    loss.backward()\n",
    "    w.data -= learning_rate * w.grad.data\n",
    "    b.data -= learning_rate * b.grad.data\n",
    "    \n",
    "    w.grad.data.zero_()\n",
    "    b.grad.data.zero_()\n"
   ]
  },
  {
   "cell_type": "markdown",
   "metadata": {},
   "source": [
    "<span style=\"color:green\">The output should be similar to the following:</span>"
   ]
  },
  {
   "cell_type": "raw",
   "metadata": {},
   "source": [
    "0 173.16668701171875\n",
    "20 78.67835998535156\n",
    "40 48.11701583862305\n",
    "60 37.271697998046875\n",
    "80 33.033660888671875\n",
    "100 31.21847152709961\n",
    "120 30.374984741210938\n",
    "140 29.95508575439453\n",
    "160 29.73402976989746\n",
    "180 29.612422943115234"
   ]
  },
  {
   "cell_type": "code",
   "execution_count": null,
   "metadata": {
    "collapsed": true
   },
   "outputs": [],
   "source": []
  }
 ],
 "metadata": {
  "kernelspec": {
   "display_name": "Python 3",
   "language": "python",
   "name": "python3"
  },
  "language_info": {
   "codemirror_mode": {
    "name": "ipython",
    "version": 3
   },
   "file_extension": ".py",
   "mimetype": "text/x-python",
   "name": "python",
   "nbconvert_exporter": "python",
   "pygments_lexer": "ipython3",
   "version": "3.6.0"
  }
 },
 "nbformat": 4,
 "nbformat_minor": 2
}
